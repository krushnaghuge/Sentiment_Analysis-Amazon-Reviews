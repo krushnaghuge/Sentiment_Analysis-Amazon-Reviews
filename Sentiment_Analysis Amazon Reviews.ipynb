{
 "cells": [
  {
   "cell_type": "code",
   "execution_count": 1,
   "metadata": {
    "_cell_guid": "b1076dfc-b9ad-4769-8c92-a6c4dae69d19",
    "_uuid": "8f2839f25d086af736a60e9eeb907d3b93b6e0e5"
   },
   "outputs": [],
   "source": [
    "import numpy as np # linear algebra\n",
    "import pandas as pd # data processing.\n",
    "import string # special operations on strings\n",
    "import spacy # language models\n",
    "\n",
    "from matplotlib.pyplot import imread\n",
    "from matplotlib import pyplot as plt\n",
    "from wordcloud import WordCloud\n",
    "%matplotlib inline"
   ]
  },
  {
   "cell_type": "code",
   "execution_count": 26,
   "metadata": {},
   "outputs": [
    {
     "name": "stderr",
     "output_type": "stream",
     "text": [
      "b'Skipping line 21: expected 1 fields, saw 2\\nSkipping line 42: expected 1 fields, saw 2\\nSkipping line 50: expected 1 fields, saw 2\\nSkipping line 58: expected 1 fields, saw 2\\nSkipping line 76: expected 1 fields, saw 2\\nSkipping line 78: expected 1 fields, saw 3\\nSkipping line 90: expected 1 fields, saw 2\\nSkipping line 101: expected 1 fields, saw 6\\nSkipping line 107: expected 1 fields, saw 2\\nSkipping line 109: expected 1 fields, saw 2\\nSkipping line 120: expected 1 fields, saw 3\\nSkipping line 126: expected 1 fields, saw 2\\nSkipping line 141: expected 1 fields, saw 4\\nSkipping line 147: expected 1 fields, saw 2\\nSkipping line 161: expected 1 fields, saw 2\\nSkipping line 170: expected 1 fields, saw 3\\nSkipping line 180: expected 1 fields, saw 2\\nSkipping line 187: expected 1 fields, saw 2\\nSkipping line 209: expected 1 fields, saw 2\\nSkipping line 214: expected 1 fields, saw 3\\nSkipping line 222: expected 1 fields, saw 3\\nSkipping line 225: expected 1 fields, saw 2\\nSkipping line 327: expected 1 fields, saw 2\\nSkipping line 354: expected 1 fields, saw 5\\nSkipping line 357: expected 1 fields, saw 3\\nSkipping line 359: expected 1 fields, saw 3\\nSkipping line 363: expected 1 fields, saw 3\\nSkipping line 370: expected 1 fields, saw 2\\nSkipping line 379: expected 1 fields, saw 3\\nSkipping line 380: expected 1 fields, saw 2\\nSkipping line 384: expected 1 fields, saw 5\\nSkipping line 389: expected 1 fields, saw 3\\nSkipping line 405: expected 1 fields, saw 2\\nSkipping line 419: expected 1 fields, saw 3\\nSkipping line 423: expected 1 fields, saw 5\\nSkipping line 424: expected 1 fields, saw 2\\nSkipping line 432: expected 1 fields, saw 3\\nSkipping line 452: expected 1 fields, saw 4\\nSkipping line 458: expected 1 fields, saw 2\\nSkipping line 459: expected 1 fields, saw 2\\nSkipping line 478: expected 1 fields, saw 3\\nSkipping line 490: expected 1 fields, saw 2\\nSkipping line 492: expected 1 fields, saw 2\\nSkipping line 504: expected 1 fields, saw 2\\nSkipping line 517: expected 1 fields, saw 2\\nSkipping line 523: expected 1 fields, saw 2\\nSkipping line 527: expected 1 fields, saw 2\\nSkipping line 539: expected 1 fields, saw 3\\nSkipping line 545: expected 1 fields, saw 2\\nSkipping line 548: expected 1 fields, saw 3\\nSkipping line 549: expected 1 fields, saw 2\\nSkipping line 561: expected 1 fields, saw 2\\nSkipping line 576: expected 1 fields, saw 2\\nSkipping line 587: expected 1 fields, saw 3\\nSkipping line 593: expected 1 fields, saw 2\\nSkipping line 607: expected 1 fields, saw 3\\nSkipping line 612: expected 1 fields, saw 2\\nSkipping line 619: expected 1 fields, saw 3\\nSkipping line 637: expected 1 fields, saw 4\\nSkipping line 649: expected 1 fields, saw 3\\nSkipping line 661: expected 1 fields, saw 7\\nSkipping line 676: expected 1 fields, saw 2\\nSkipping line 696: expected 1 fields, saw 2\\nSkipping line 704: expected 1 fields, saw 2\\nSkipping line 705: expected 1 fields, saw 6\\nSkipping line 706: expected 1 fields, saw 3\\nSkipping line 710: expected 1 fields, saw 2\\nSkipping line 731: expected 1 fields, saw 5\\nSkipping line 743: expected 1 fields, saw 2\\nSkipping line 747: expected 1 fields, saw 3\\nSkipping line 776: expected 1 fields, saw 2\\nSkipping line 788: expected 1 fields, saw 4\\nSkipping line 807: expected 1 fields, saw 2\\nSkipping line 809: expected 1 fields, saw 3\\nSkipping line 820: expected 1 fields, saw 2\\nSkipping line 825: expected 1 fields, saw 2\\nSkipping line 834: expected 1 fields, saw 2\\nSkipping line 838: expected 1 fields, saw 3\\nSkipping line 845: expected 1 fields, saw 3\\nSkipping line 868: expected 1 fields, saw 3\\nSkipping line 874: expected 1 fields, saw 5\\nSkipping line 878: expected 1 fields, saw 3\\nSkipping line 881: expected 1 fields, saw 3\\nSkipping line 928: expected 1 fields, saw 5\\nSkipping line 960: expected 1 fields, saw 7\\nSkipping line 964: expected 1 fields, saw 2\\nSkipping line 970: expected 1 fields, saw 2\\nSkipping line 981: expected 1 fields, saw 3\\nSkipping line 989: expected 1 fields, saw 2\\nSkipping line 999: expected 1 fields, saw 3\\nSkipping line 1038: expected 1 fields, saw 2\\nSkipping line 1045: expected 1 fields, saw 3\\nSkipping line 1062: expected 1 fields, saw 2\\nSkipping line 1063: expected 1 fields, saw 7\\nSkipping line 1067: expected 1 fields, saw 3\\nSkipping line 1081: expected 1 fields, saw 3\\nSkipping line 1102: expected 1 fields, saw 5\\nSkipping line 1117: expected 1 fields, saw 3\\nSkipping line 1129: expected 1 fields, saw 5\\nSkipping line 1130: expected 1 fields, saw 3\\nSkipping line 1139: expected 1 fields, saw 3\\nSkipping line 1141: expected 1 fields, saw 3\\nSkipping line 1144: expected 1 fields, saw 3\\nSkipping line 1152: expected 1 fields, saw 3\\nSkipping line 1158: expected 1 fields, saw 2\\nSkipping line 1161: expected 1 fields, saw 3\\nSkipping line 1166: expected 1 fields, saw 2\\nSkipping line 1173: expected 1 fields, saw 2\\nSkipping line 1206: expected 1 fields, saw 2\\nSkipping line 1220: expected 1 fields, saw 3\\nSkipping line 1241: expected 1 fields, saw 2\\nSkipping line 1261: expected 1 fields, saw 2\\nSkipping line 1265: expected 1 fields, saw 3\\nSkipping line 1268: expected 1 fields, saw 2\\nSkipping line 1281: expected 1 fields, saw 2\\nSkipping line 1289: expected 1 fields, saw 3\\nSkipping line 1336: expected 1 fields, saw 5\\nSkipping line 1355: expected 1 fields, saw 3\\nSkipping line 1361: expected 1 fields, saw 7\\nSkipping line 1363: expected 1 fields, saw 3\\nSkipping line 1378: expected 1 fields, saw 3\\nSkipping line 1381: expected 1 fields, saw 2\\nSkipping line 1384: expected 1 fields, saw 2\\nSkipping line 1411: expected 1 fields, saw 3\\nSkipping line 1423: expected 1 fields, saw 2\\nSkipping line 1427: expected 1 fields, saw 2\\nSkipping line 1447: expected 1 fields, saw 2\\nSkipping line 1458: expected 1 fields, saw 2\\nSkipping line 1477: expected 1 fields, saw 2\\nSkipping line 1479: expected 1 fields, saw 3\\nSkipping line 1487: expected 1 fields, saw 3\\nSkipping line 1512: expected 1 fields, saw 2\\nSkipping line 1525: expected 1 fields, saw 3\\nSkipping line 1553: expected 1 fields, saw 5\\nSkipping line 1554: expected 1 fields, saw 2\\nSkipping line 1561: expected 1 fields, saw 13\\nSkipping line 1564: expected 1 fields, saw 3\\nSkipping line 1566: expected 1 fields, saw 3\\nSkipping line 1573: expected 1 fields, saw 9\\nSkipping line 1578: expected 1 fields, saw 2\\nSkipping line 1589: expected 1 fields, saw 3\\nSkipping line 1593: expected 1 fields, saw 3\\nSkipping line 1603: expected 1 fields, saw 3\\nSkipping line 1611: expected 1 fields, saw 2\\nSkipping line 1642: expected 1 fields, saw 5\\nSkipping line 1658: expected 1 fields, saw 3\\nSkipping line 1673: expected 1 fields, saw 2\\nSkipping line 1677: expected 1 fields, saw 2\\nSkipping line 1680: expected 1 fields, saw 3\\nSkipping line 1681: expected 1 fields, saw 2\\nSkipping line 1692: expected 1 fields, saw 2\\nSkipping line 1698: expected 1 fields, saw 2\\nSkipping line 1700: expected 1 fields, saw 3\\nSkipping line 1702: expected 1 fields, saw 2\\nSkipping line 1705: expected 1 fields, saw 2\\nSkipping line 1733: expected 1 fields, saw 3\\nSkipping line 1738: expected 1 fields, saw 2\\nSkipping line 1740: expected 1 fields, saw 4\\nSkipping line 1754: expected 1 fields, saw 2\\nSkipping line 1758: expected 1 fields, saw 2\\nSkipping line 1790: expected 1 fields, saw 3\\nSkipping line 1797: expected 1 fields, saw 2\\nSkipping line 1798: expected 1 fields, saw 3\\nSkipping line 1812: expected 1 fields, saw 2\\nSkipping line 1818: expected 1 fields, saw 4\\nSkipping line 1828: expected 1 fields, saw 2\\nSkipping line 1848: expected 1 fields, saw 2\\nSkipping line 1871: expected 1 fields, saw 5\\nSkipping line 1885: expected 1 fields, saw 2\\nSkipping line 1890: expected 1 fields, saw 2\\nSkipping line 1902: expected 1 fields, saw 2\\nSkipping line 1913: expected 1 fields, saw 3\\nSkipping line 1923: expected 1 fields, saw 2\\nSkipping line 1937: expected 1 fields, saw 3\\nSkipping line 1950: expected 1 fields, saw 2\\nSkipping line 1952: expected 1 fields, saw 2\\nSkipping line 1957: expected 1 fields, saw 2\\nSkipping line 1960: expected 1 fields, saw 3\\nSkipping line 1969: expected 1 fields, saw 2\\nSkipping line 1976: expected 1 fields, saw 3\\nSkipping line 1986: expected 1 fields, saw 2\\nSkipping line 1990: expected 1 fields, saw 3\\nSkipping line 2031: expected 1 fields, saw 3\\nSkipping line 2038: expected 1 fields, saw 3\\nSkipping line 2040: expected 1 fields, saw 3\\nSkipping line 2042: expected 1 fields, saw 2\\nSkipping line 2046: expected 1 fields, saw 2\\nSkipping line 2058: expected 1 fields, saw 3\\nSkipping line 2098: expected 1 fields, saw 2\\nSkipping line 2130: expected 1 fields, saw 2\\nSkipping line 2188: expected 1 fields, saw 5\\nSkipping line 2198: expected 1 fields, saw 8\\nSkipping line 2209: expected 1 fields, saw 3\\nSkipping line 2241: expected 1 fields, saw 3\\nSkipping line 2266: expected 1 fields, saw 4\\nSkipping line 2279: expected 1 fields, saw 3\\nSkipping line 2283: expected 1 fields, saw 7\\nSkipping line 2299: expected 1 fields, saw 2\\nSkipping line 2306: expected 1 fields, saw 2\\nSkipping line 2315: expected 1 fields, saw 2\\nSkipping line 2321: expected 1 fields, saw 4\\nSkipping line 2379: expected 1 fields, saw 2\\nSkipping line 2398: expected 1 fields, saw 7\\nSkipping line 2406: expected 1 fields, saw 2\\nSkipping line 2451: expected 1 fields, saw 2\\nSkipping line 2454: expected 1 fields, saw 3\\nSkipping line 2456: expected 1 fields, saw 2\\nSkipping line 2462: expected 1 fields, saw 4\\nSkipping line 2468: expected 1 fields, saw 3\\nSkipping line 2479: expected 1 fields, saw 3\\nSkipping line 2512: expected 1 fields, saw 2\\nSkipping line 2520: expected 1 fields, saw 3\\nSkipping line 2521: expected 1 fields, saw 2\\nSkipping line 2536: expected 1 fields, saw 5\\nSkipping line 2537: expected 1 fields, saw 2\\nSkipping line 2560: expected 1 fields, saw 3\\nSkipping line 2565: expected 1 fields, saw 3\\nSkipping line 2568: expected 1 fields, saw 4\\nSkipping line 2574: expected 1 fields, saw 3\\nSkipping line 2578: expected 1 fields, saw 2\\nSkipping line 2579: expected 1 fields, saw 2\\nSkipping line 2605: expected 1 fields, saw 2\\nSkipping line 2627: expected 1 fields, saw 3\\nSkipping line 2639: expected 1 fields, saw 2\\nSkipping line 2652: expected 1 fields, saw 2\\nSkipping line 2653: expected 1 fields, saw 2\\nSkipping line 2665: expected 1 fields, saw 2\\nSkipping line 2677: expected 1 fields, saw 3\\nSkipping line 2690: expected 1 fields, saw 3\\nSkipping line 2703: expected 1 fields, saw 2\\nSkipping line 2709: expected 1 fields, saw 3\\nSkipping line 2711: expected 1 fields, saw 4\\nSkipping line 2774: expected 1 fields, saw 2\\nSkipping line 2776: expected 1 fields, saw 6\\nSkipping line 2816: expected 1 fields, saw 3\\nSkipping line 2819: expected 1 fields, saw 2\\nSkipping line 2825: expected 1 fields, saw 2\\nSkipping line 2830: expected 1 fields, saw 3\\nSkipping line 2839: expected 1 fields, saw 3\\nSkipping line 2849: expected 1 fields, saw 3\\nSkipping line 2877: expected 1 fields, saw 3\\nSkipping line 2884: expected 1 fields, saw 2\\nSkipping line 2890: expected 1 fields, saw 9\\nSkipping line 2897: expected 1 fields, saw 2\\nSkipping line 2904: expected 1 fields, saw 2\\nSkipping line 2908: expected 1 fields, saw 13\\nSkipping line 2919: expected 1 fields, saw 2\\nSkipping line 2940: expected 1 fields, saw 5\\nSkipping line 2952: expected 1 fields, saw 2\\nSkipping line 2964: expected 1 fields, saw 3\\nSkipping line 2966: expected 1 fields, saw 5\\nSkipping line 2983: expected 1 fields, saw 2\\nSkipping line 2998: expected 1 fields, saw 2\\nSkipping line 3023: expected 1 fields, saw 3\\nSkipping line 3050: expected 1 fields, saw 3\\nSkipping line 3053: expected 1 fields, saw 2\\nSkipping line 3085: expected 1 fields, saw 6\\nSkipping line 3086: expected 1 fields, saw 2\\nSkipping line 3088: expected 1 fields, saw 2\\nSkipping line 3091: expected 1 fields, saw 3\\nSkipping line 3092: expected 1 fields, saw 2\\nSkipping line 3095: expected 1 fields, saw 2\\nSkipping line 3115: expected 1 fields, saw 2\\nSkipping line 3161: expected 1 fields, saw 3\\nSkipping line 3167: expected 1 fields, saw 2\\nSkipping line 3177: expected 1 fields, saw 2\\nSkipping line 3191: expected 1 fields, saw 3\\nSkipping line 3223: expected 1 fields, saw 2\\nSkipping line 3226: expected 1 fields, saw 2\\nSkipping line 3229: expected 1 fields, saw 3\\nSkipping line 3235: expected 1 fields, saw 5\\nSkipping line 3262: expected 1 fields, saw 3\\nSkipping line 3308: expected 1 fields, saw 2\\nSkipping line 3326: expected 1 fields, saw 3\\nSkipping line 3347: expected 1 fields, saw 2\\nSkipping line 3417: expected 1 fields, saw 2\\nSkipping line 3423: expected 1 fields, saw 2\\nSkipping line 3427: expected 1 fields, saw 3\\nSkipping line 3429: expected 1 fields, saw 3\\nSkipping line 3433: expected 1 fields, saw 3\\nSkipping line 3437: expected 1 fields, saw 5\\nSkipping line 3445: expected 1 fields, saw 3\\nSkipping line 3447: expected 1 fields, saw 2\\nSkipping line 3449: expected 1 fields, saw 3\\nSkipping line 3451: expected 1 fields, saw 2\\nSkipping line 3464: expected 1 fields, saw 3\\nSkipping line 3467: expected 1 fields, saw 2\\nSkipping line 3481: expected 1 fields, saw 2\\nSkipping line 3491: expected 1 fields, saw 3\\nSkipping line 3492: expected 1 fields, saw 2\\nSkipping line 3502: expected 1 fields, saw 3\\nSkipping line 3512: expected 1 fields, saw 3\\nSkipping line 3520: expected 1 fields, saw 2\\nSkipping line 3523: expected 1 fields, saw 2\\nSkipping line 3530: expected 1 fields, saw 3\\nSkipping line 3531: expected 1 fields, saw 3\\nSkipping line 3565: expected 1 fields, saw 5\\nSkipping line 3567: expected 1 fields, saw 2\\nSkipping line 3573: expected 1 fields, saw 3\\nSkipping line 3590: expected 1 fields, saw 4\\nSkipping line 3601: expected 1 fields, saw 2\\nSkipping line 3613: expected 1 fields, saw 3\\nSkipping line 3614: expected 1 fields, saw 7\\nSkipping line 3616: expected 1 fields, saw 2\\nSkipping line 3626: expected 1 fields, saw 2\\nSkipping line 3662: expected 1 fields, saw 4\\nSkipping line 3672: expected 1 fields, saw 3\\nSkipping line 3680: expected 1 fields, saw 3\\nSkipping line 3696: expected 1 fields, saw 3\\nSkipping line 3702: expected 1 fields, saw 2\\nSkipping line 3709: expected 1 fields, saw 3\\nSkipping line 3725: expected 1 fields, saw 5\\nSkipping line 3731: expected 1 fields, saw 2\\nSkipping line 3740: expected 1 fields, saw 3\\nSkipping line 3745: expected 1 fields, saw 2\\nSkipping line 3763: expected 1 fields, saw 2\\nSkipping line 3773: expected 1 fields, saw 3\\nSkipping line 3780: expected 1 fields, saw 3\\nSkipping line 3785: expected 1 fields, saw 3\\nSkipping line 3789: expected 1 fields, saw 2\\nSkipping line 3793: expected 1 fields, saw 2\\nSkipping line 3794: expected 1 fields, saw 2\\nSkipping line 3850: expected 1 fields, saw 3\\nSkipping line 3860: expected 1 fields, saw 3\\nSkipping line 3864: expected 1 fields, saw 2\\nSkipping line 3866: expected 1 fields, saw 5\\nSkipping line 3868: expected 1 fields, saw 4\\nSkipping line 3894: expected 1 fields, saw 2\\nSkipping line 3899: expected 1 fields, saw 2\\nSkipping line 3935: expected 1 fields, saw 2\\nSkipping line 3947: expected 1 fields, saw 3\\nSkipping line 3958: expected 1 fields, saw 2\\nSkipping line 3971: expected 1 fields, saw 3\\nSkipping line 3987: expected 1 fields, saw 3\\nSkipping line 3988: expected 1 fields, saw 3\\nSkipping line 4010: expected 1 fields, saw 3\\nSkipping line 4025: expected 1 fields, saw 2\\nSkipping line 4040: expected 1 fields, saw 2\\nSkipping line 4071: expected 1 fields, saw 2\\nSkipping line 4074: expected 1 fields, saw 3\\nSkipping line 4087: expected 1 fields, saw 3\\nSkipping line 4098: expected 1 fields, saw 13\\nSkipping line 4102: expected 1 fields, saw 3\\nSkipping line 4106: expected 1 fields, saw 3\\nSkipping line 4113: expected 1 fields, saw 3\\nSkipping line 4115: expected 1 fields, saw 5\\nSkipping line 4139: expected 1 fields, saw 3\\nSkipping line 4147: expected 1 fields, saw 2\\nSkipping line 4168: expected 1 fields, saw 2\\nSkipping line 4172: expected 1 fields, saw 3\\nSkipping line 4177: expected 1 fields, saw 3\\nSkipping line 4183: expected 1 fields, saw 3\\nSkipping line 4190: expected 1 fields, saw 2\\nSkipping line 4201: expected 1 fields, saw 6\\nSkipping line 4206: expected 1 fields, saw 5\\nSkipping line 4207: expected 1 fields, saw 4\\nSkipping line 4216: expected 1 fields, saw 2\\nSkipping line 4218: expected 1 fields, saw 2\\nSkipping line 4220: expected 1 fields, saw 3\\nSkipping line 4227: expected 1 fields, saw 3\\nSkipping line 4228: expected 1 fields, saw 3\\nSkipping line 4256: expected 1 fields, saw 5\\nSkipping line 4285: expected 1 fields, saw 3\\nSkipping line 4289: expected 1 fields, saw 7\\nSkipping line 4293: expected 1 fields, saw 3\\nSkipping line 4316: expected 1 fields, saw 3\\nSkipping line 4317: expected 1 fields, saw 2\\nSkipping line 4325: expected 1 fields, saw 2\\nSkipping line 4352: expected 1 fields, saw 2\\nSkipping line 4392: expected 1 fields, saw 6\\nSkipping line 4409: expected 1 fields, saw 2\\nSkipping line 4413: expected 1 fields, saw 3\\nSkipping line 4441: expected 1 fields, saw 3\\nSkipping line 4446: expected 1 fields, saw 2\\nSkipping line 4457: expected 1 fields, saw 2\\nSkipping line 4458: expected 1 fields, saw 2\\nSkipping line 4463: expected 1 fields, saw 5\\nSkipping line 4464: expected 1 fields, saw 2\\nSkipping line 4466: expected 1 fields, saw 2\\nSkipping line 4511: expected 1 fields, saw 2\\nSkipping line 4514: expected 1 fields, saw 2\\nSkipping line 4515: expected 1 fields, saw 2\\nSkipping line 4534: expected 1 fields, saw 10\\nSkipping line 4545: expected 1 fields, saw 3\\nSkipping line 4549: expected 1 fields, saw 2\\nSkipping line 4566: expected 1 fields, saw 2\\nSkipping line 4602: expected 1 fields, saw 2\\nSkipping line 4622: expected 1 fields, saw 3\\nSkipping line 4626: expected 1 fields, saw 3\\nSkipping line 4638: expected 1 fields, saw 2\\nSkipping line 4651: expected 1 fields, saw 2\\nSkipping line 4656: expected 1 fields, saw 2\\nSkipping line 4683: expected 1 fields, saw 5\\nSkipping line 4692: expected 1 fields, saw 3\\nSkipping line 4704: expected 1 fields, saw 3\\nSkipping line 4714: expected 1 fields, saw 3\\nSkipping line 4720: expected 1 fields, saw 3\\nSkipping line 4734: expected 1 fields, saw 3\\nSkipping line 4744: expected 1 fields, saw 2\\nSkipping line 4753: expected 1 fields, saw 3\\nSkipping line 4774: expected 1 fields, saw 5\\nSkipping line 4778: expected 1 fields, saw 2\\nSkipping line 4779: expected 1 fields, saw 3\\nSkipping line 4780: expected 1 fields, saw 3\\nSkipping line 4784: expected 1 fields, saw 2\\nSkipping line 4798: expected 1 fields, saw 2\\nSkipping line 4805: expected 1 fields, saw 2\\nSkipping line 4818: expected 1 fields, saw 3\\nSkipping line 4823: expected 1 fields, saw 2\\nSkipping line 4830: expected 1 fields, saw 2\\nSkipping line 4836: expected 1 fields, saw 2\\nSkipping line 4847: expected 1 fields, saw 2\\nSkipping line 4849: expected 1 fields, saw 2\\nSkipping line 4858: expected 1 fields, saw 3\\nSkipping line 4910: expected 1 fields, saw 2\\nSkipping line 4915: expected 1 fields, saw 2\\nSkipping line 4917: expected 1 fields, saw 3\\nSkipping line 4942: expected 1 fields, saw 3\\nSkipping line 4946: expected 1 fields, saw 4\\nSkipping line 4950: expected 1 fields, saw 3\\nSkipping line 4951: expected 1 fields, saw 3\\nSkipping line 4952: expected 1 fields, saw 3\\nSkipping line 4953: expected 1 fields, saw 3\\nSkipping line 4960: expected 1 fields, saw 3\\nSkipping line 4962: expected 1 fields, saw 2\\nSkipping line 4967: expected 1 fields, saw 3\\nSkipping line 4975: expected 1 fields, saw 7\\nSkipping line 4982: expected 1 fields, saw 2\\nSkipping line 4994: expected 1 fields, saw 3\\nSkipping line 4995: expected 1 fields, saw 2\\nSkipping line 5023: expected 1 fields, saw 3\\nSkipping line 5034: expected 1 fields, saw 7\\nSkipping line 5036: expected 1 fields, saw 2\\nSkipping line 5044: expected 1 fields, saw 5\\nSkipping line 5050: expected 1 fields, saw 3\\nSkipping line 5052: expected 1 fields, saw 3\\nSkipping line 5075: expected 1 fields, saw 2\\nSkipping line 5079: expected 1 fields, saw 4\\nSkipping line 5083: expected 1 fields, saw 2\\nSkipping line 5087: expected 1 fields, saw 3\\nSkipping line 5111: expected 1 fields, saw 3\\nSkipping line 5114: expected 1 fields, saw 6\\nSkipping line 5122: expected 1 fields, saw 3\\nSkipping line 5127: expected 1 fields, saw 2\\nSkipping line 5132: expected 1 fields, saw 3\\nSkipping line 5142: expected 1 fields, saw 5\\nSkipping line 5153: expected 1 fields, saw 2\\nSkipping line 5164: expected 1 fields, saw 3\\nSkipping line 5182: expected 1 fields, saw 3\\nSkipping line 5191: expected 1 fields, saw 3\\nSkipping line 5202: expected 1 fields, saw 3\\nSkipping line 5215: expected 1 fields, saw 2\\nSkipping line 5224: expected 1 fields, saw 5\\nSkipping line 5233: expected 1 fields, saw 6\\nSkipping line 5243: expected 1 fields, saw 3\\nSkipping line 5247: expected 1 fields, saw 7\\nSkipping line 5267: expected 1 fields, saw 3\\nSkipping line 5269: expected 1 fields, saw 5\\nSkipping line 5291: expected 1 fields, saw 3\\nSkipping line 5293: expected 1 fields, saw 2\\nSkipping line 5295: expected 1 fields, saw 3\\nSkipping line 5297: expected 1 fields, saw 3\\nSkipping line 5299: expected 1 fields, saw 2\\nSkipping line 5303: expected 1 fields, saw 4\\nSkipping line 5304: expected 1 fields, saw 3\\nSkipping line 5309: expected 1 fields, saw 2\\nSkipping line 5335: expected 1 fields, saw 2\\nSkipping line 5364: expected 1 fields, saw 2\\nSkipping line 5365: expected 1 fields, saw 7\\nSkipping line 5368: expected 1 fields, saw 2\\nSkipping line 5388: expected 1 fields, saw 2\\nSkipping line 5391: expected 1 fields, saw 2\\nSkipping line 5394: expected 1 fields, saw 2\\nSkipping line 5407: expected 1 fields, saw 2\\nSkipping line 5409: expected 1 fields, saw 3\\nSkipping line 5410: expected 1 fields, saw 16\\nSkipping line 5418: expected 1 fields, saw 2\\nSkipping line 5440: expected 1 fields, saw 2\\nSkipping line 5449: expected 1 fields, saw 3\\nSkipping line 5477: expected 1 fields, saw 3\\nSkipping line 5482: expected 1 fields, saw 3\\nSkipping line 5483: expected 1 fields, saw 4\\nSkipping line 5492: expected 1 fields, saw 3\\nSkipping line 5506: expected 1 fields, saw 3\\nSkipping line 5507: expected 1 fields, saw 4\\nSkipping line 5534: expected 1 fields, saw 2\\nSkipping line 5536: expected 1 fields, saw 3\\nSkipping line 5573: expected 1 fields, saw 2\\nSkipping line 5576: expected 1 fields, saw 2\\nSkipping line 5589: expected 1 fields, saw 2\\nSkipping line 5591: expected 1 fields, saw 2\\nSkipping line 5592: expected 1 fields, saw 2\\nSkipping line 5596: expected 1 fields, saw 2\\nSkipping line 5601: expected 1 fields, saw 2\\nSkipping line 5606: expected 1 fields, saw 2\\nSkipping line 5609: expected 1 fields, saw 2\\nSkipping line 5631: expected 1 fields, saw 3\\nSkipping line 5636: expected 1 fields, saw 2\\nSkipping line 5645: expected 1 fields, saw 2\\nSkipping line 5647: expected 1 fields, saw 3\\nSkipping line 5655: expected 1 fields, saw 3\\nSkipping line 5676: expected 1 fields, saw 2\\nSkipping line 5685: expected 1 fields, saw 3\\nSkipping line 5687: expected 1 fields, saw 2\\nSkipping line 5689: expected 1 fields, saw 5\\nSkipping line 5698: expected 1 fields, saw 2\\nSkipping line 5710: expected 1 fields, saw 5\\nSkipping line 5712: expected 1 fields, saw 3\\nSkipping line 5714: expected 1 fields, saw 3\\nSkipping line 5741: expected 1 fields, saw 3\\nSkipping line 5770: expected 1 fields, saw 2\\nSkipping line 5774: expected 1 fields, saw 2\\nSkipping line 5776: expected 1 fields, saw 3\\nSkipping line 5797: expected 1 fields, saw 3\\nSkipping line 5818: expected 1 fields, saw 2\\nSkipping line 5825: expected 1 fields, saw 3\\nSkipping line 5843: expected 1 fields, saw 3\\nSkipping line 5858: expected 1 fields, saw 3\\nSkipping line 5900: expected 1 fields, saw 3\\nSkipping line 5908: expected 1 fields, saw 2\\nSkipping line 5909: expected 1 fields, saw 4\\nSkipping line 5922: expected 1 fields, saw 3\\nSkipping line 5928: expected 1 fields, saw 3\\nSkipping line 5942: expected 1 fields, saw 5\\nSkipping line 5946: expected 1 fields, saw 3\\nSkipping line 5952: expected 1 fields, saw 3\\nSkipping line 5972: expected 1 fields, saw 7\\nSkipping line 5986: expected 1 fields, saw 3\\nSkipping line 5993: expected 1 fields, saw 3\\nSkipping line 6030: expected 1 fields, saw 3\\nSkipping line 6032: expected 1 fields, saw 2\\nSkipping line 6034: expected 1 fields, saw 3\\nSkipping line 6045: expected 1 fields, saw 3\\nSkipping line 6064: expected 1 fields, saw 3\\nSkipping line 6087: expected 1 fields, saw 2\\nSkipping line 6092: expected 1 fields, saw 2\\nSkipping line 6106: expected 1 fields, saw 3\\nSkipping line 6116: expected 1 fields, saw 2\\nSkipping line 6125: expected 1 fields, saw 3\\nSkipping line 6142: expected 1 fields, saw 3\\nSkipping line 6144: expected 1 fields, saw 3\\nSkipping line 6167: expected 1 fields, saw 2\\nSkipping line 6184: expected 1 fields, saw 5\\nSkipping line 6185: expected 1 fields, saw 18\\nSkipping line 6190: expected 1 fields, saw 9\\nSkipping line 6196: expected 1 fields, saw 6\\nSkipping line 6197: expected 1 fields, saw 2\\nSkipping line 6213: expected 1 fields, saw 2\\nSkipping line 6214: expected 1 fields, saw 2\\nSkipping line 6215: expected 1 fields, saw 2\\nSkipping line 6217: expected 1 fields, saw 2\\nSkipping line 6262: expected 1 fields, saw 2\\nSkipping line 6275: expected 1 fields, saw 5\\nSkipping line 6285: expected 1 fields, saw 6\\nSkipping line 6297: expected 1 fields, saw 3\\nSkipping line 6312: expected 1 fields, saw 2\\nSkipping line 6335: expected 1 fields, saw 2\\nSkipping line 6355: expected 1 fields, saw 3\\nSkipping line 6383: expected 1 fields, saw 2\\nSkipping line 6388: expected 1 fields, saw 6\\nSkipping line 6389: expected 1 fields, saw 3\\nSkipping line 6393: expected 1 fields, saw 5\\nSkipping line 6414: expected 1 fields, saw 13\\nSkipping line 6419: expected 1 fields, saw 4\\nSkipping line 6421: expected 1 fields, saw 2\\nSkipping line 6428: expected 1 fields, saw 2\\nSkipping line 6458: expected 1 fields, saw 4\\nSkipping line 6464: expected 1 fields, saw 2\\nSkipping line 6467: expected 1 fields, saw 2\\nSkipping line 6488: expected 1 fields, saw 4\\nSkipping line 6494: expected 1 fields, saw 2\\nSkipping line 6503: expected 1 fields, saw 2\\nSkipping line 6523: expected 1 fields, saw 3\\nSkipping line 6525: expected 1 fields, saw 2\\nSkipping line 6534: expected 1 fields, saw 3\\nSkipping line 6536: expected 1 fields, saw 3\\nSkipping line 6542: expected 1 fields, saw 9\\nSkipping line 6548: expected 1 fields, saw 2\\nSkipping line 6551: expected 1 fields, saw 2\\nSkipping line 6580: expected 1 fields, saw 2\\nSkipping line 6601: expected 1 fields, saw 3\\nSkipping line 6606: expected 1 fields, saw 3\\nSkipping line 6607: expected 1 fields, saw 3\\nSkipping line 6646: expected 1 fields, saw 2\\nSkipping line 6655: expected 1 fields, saw 3\\nSkipping line 6693: expected 1 fields, saw 2\\nSkipping line 6706: expected 1 fields, saw 3\\nSkipping line 6719: expected 1 fields, saw 2\\nSkipping line 6728: expected 1 fields, saw 10\\nSkipping line 6747: expected 1 fields, saw 3\\nSkipping line 6753: expected 1 fields, saw 2\\nSkipping line 6761: expected 1 fields, saw 3\\nSkipping line 6777: expected 1 fields, saw 2\\nSkipping line 6837: expected 1 fields, saw 3\\nSkipping line 6841: expected 1 fields, saw 2\\nSkipping line 6843: expected 1 fields, saw 2\\nSkipping line 6849: expected 1 fields, saw 2\\nSkipping line 6879: expected 1 fields, saw 3\\nSkipping line 6907: expected 1 fields, saw 2\\nSkipping line 6913: expected 1 fields, saw 5\\nSkipping line 6914: expected 1 fields, saw 3\\nSkipping line 6920: expected 1 fields, saw 2\\nSkipping line 6936: expected 1 fields, saw 4\\nSkipping line 6937: expected 1 fields, saw 2\\nSkipping line 6945: expected 1 fields, saw 2\\nSkipping line 6967: expected 1 fields, saw 3\\nSkipping line 6969: expected 1 fields, saw 3\\nSkipping line 6970: expected 1 fields, saw 3\\nSkipping line 6978: expected 1 fields, saw 2\\nSkipping line 6985: expected 1 fields, saw 3\\nSkipping line 6996: expected 1 fields, saw 2\\nSkipping line 6998: expected 1 fields, saw 3\\nSkipping line 7002: expected 1 fields, saw 2\\nSkipping line 7012: expected 1 fields, saw 2\\nSkipping line 7013: expected 1 fields, saw 3\\nSkipping line 7017: expected 1 fields, saw 5\\nSkipping line 7037: expected 1 fields, saw 3\\nSkipping line 7057: expected 1 fields, saw 2\\nSkipping line 7063: expected 1 fields, saw 2\\nSkipping line 7076: expected 1 fields, saw 3\\nSkipping line 7116: expected 1 fields, saw 3\\nSkipping line 7150: expected 1 fields, saw 2\\nSkipping line 7160: expected 1 fields, saw 3\\nSkipping line 7167: expected 1 fields, saw 2\\nSkipping line 7170: expected 1 fields, saw 3\\nSkipping line 7194: expected 1 fields, saw 4\\nSkipping line 7195: expected 1 fields, saw 2\\nSkipping line 7205: expected 1 fields, saw 2\\nSkipping line 7208: expected 1 fields, saw 4\\nSkipping line 7209: expected 1 fields, saw 5\\nSkipping line 7214: expected 1 fields, saw 5\\nSkipping line 7235: expected 1 fields, saw 5\\nSkipping line 7261: expected 1 fields, saw 5\\nSkipping line 7262: expected 1 fields, saw 2\\nSkipping line 7266: expected 1 fields, saw 3\\nSkipping line 7268: expected 1 fields, saw 2\\nSkipping line 7274: expected 1 fields, saw 2\\nSkipping line 7281: expected 1 fields, saw 2\\nSkipping line 7282: expected 1 fields, saw 2\\nSkipping line 7290: expected 1 fields, saw 3\\nSkipping line 7296: expected 1 fields, saw 3\\nSkipping line 7301: expected 1 fields, saw 3\\nSkipping line 7308: expected 1 fields, saw 2\\nSkipping line 7318: expected 1 fields, saw 3\\nSkipping line 7319: expected 1 fields, saw 3\\nSkipping line 7323: expected 1 fields, saw 7\\nSkipping line 7336: expected 1 fields, saw 3\\nSkipping line 7354: expected 1 fields, saw 2\\nSkipping line 7379: expected 1 fields, saw 5\\nSkipping line 7386: expected 1 fields, saw 2\\nSkipping line 7405: expected 1 fields, saw 4\\nSkipping line 7421: expected 1 fields, saw 3\\nSkipping line 7429: expected 1 fields, saw 3\\nSkipping line 7430: expected 1 fields, saw 11\\nSkipping line 7436: expected 1 fields, saw 2\\nSkipping line 7438: expected 1 fields, saw 5\\nSkipping line 7456: expected 1 fields, saw 2\\nSkipping line 7460: expected 1 fields, saw 2\\nSkipping line 7461: expected 1 fields, saw 2\\nSkipping line 7473: expected 1 fields, saw 5\\nSkipping line 7497: expected 1 fields, saw 3\\nSkipping line 7510: expected 1 fields, saw 2\\nSkipping line 7523: expected 1 fields, saw 2\\nSkipping line 7529: expected 1 fields, saw 2\\nSkipping line 7537: expected 1 fields, saw 3\\nSkipping line 7549: expected 1 fields, saw 2\\nSkipping line 7560: expected 1 fields, saw 3\\nSkipping line 7569: expected 1 fields, saw 2\\nSkipping line 7572: expected 1 fields, saw 4\\nSkipping line 7579: expected 1 fields, saw 2\\nSkipping line 7589: expected 1 fields, saw 3\\nSkipping line 7621: expected 1 fields, saw 2\\nSkipping line 7640: expected 1 fields, saw 2\\nSkipping line 7654: expected 1 fields, saw 3\\nSkipping line 7662: expected 1 fields, saw 2\\nSkipping line 7663: expected 1 fields, saw 3\\nSkipping line 7668: expected 1 fields, saw 3\\nSkipping line 7693: expected 1 fields, saw 2\\nSkipping line 7698: expected 1 fields, saw 2\\nSkipping line 7705: expected 1 fields, saw 2\\nSkipping line 7710: expected 1 fields, saw 3\\nSkipping line 7714: expected 1 fields, saw 2\\nSkipping line 7741: expected 1 fields, saw 2\\nSkipping line 7755: expected 1 fields, saw 5\\nSkipping line 7767: expected 1 fields, saw 2\\nSkipping line 7770: expected 1 fields, saw 3\\nSkipping line 7771: expected 1 fields, saw 3\\nSkipping line 7783: expected 1 fields, saw 3\\nSkipping line 7784: expected 1 fields, saw 3\\nSkipping line 7802: expected 1 fields, saw 2\\nSkipping line 7824: expected 1 fields, saw 3\\nSkipping line 7829: expected 1 fields, saw 3\\nSkipping line 7835: expected 1 fields, saw 3\\nSkipping line 7836: expected 1 fields, saw 4\\nSkipping line 7842: expected 1 fields, saw 2\\nSkipping line 7844: expected 1 fields, saw 2\\nSkipping line 7845: expected 1 fields, saw 3\\nSkipping line 7852: expected 1 fields, saw 2\\nSkipping line 7875: expected 1 fields, saw 2\\nSkipping line 7885: expected 1 fields, saw 2\\nSkipping line 7912: expected 1 fields, saw 3\\nSkipping line 7928: expected 1 fields, saw 2\\nSkipping line 7950: expected 1 fields, saw 3\\nSkipping line 7980: expected 1 fields, saw 2\\nSkipping line 7992: expected 1 fields, saw 2\\nSkipping line 8003: expected 1 fields, saw 3\\nSkipping line 8006: expected 1 fields, saw 4\\nSkipping line 8037: expected 1 fields, saw 2\\nSkipping line 8043: expected 1 fields, saw 3\\nSkipping line 8046: expected 1 fields, saw 3\\nSkipping line 8062: expected 1 fields, saw 2\\nSkipping line 8075: expected 1 fields, saw 2\\nSkipping line 8079: expected 1 fields, saw 2\\nSkipping line 8087: expected 1 fields, saw 3\\nSkipping line 8096: expected 1 fields, saw 3\\nSkipping line 8106: expected 1 fields, saw 2\\nSkipping line 8112: expected 1 fields, saw 2\\nSkipping line 8149: expected 1 fields, saw 2\\nSkipping line 8155: expected 1 fields, saw 2\\nSkipping line 8157: expected 1 fields, saw 3\\nSkipping line 8161: expected 1 fields, saw 9\\nSkipping line 8179: expected 1 fields, saw 3\\nSkipping line 8218: expected 1 fields, saw 3\\nSkipping line 8230: expected 1 fields, saw 15\\nSkipping line 8241: expected 1 fields, saw 3\\nSkipping line 8267: expected 1 fields, saw 2\\nSkipping line 8273: expected 1 fields, saw 3\\nSkipping line 8283: expected 1 fields, saw 3\\nSkipping line 8308: expected 1 fields, saw 3\\nSkipping line 8339: expected 1 fields, saw 2\\nSkipping line 8347: expected 1 fields, saw 3\\nSkipping line 8366: expected 1 fields, saw 3\\nSkipping line 8387: expected 1 fields, saw 2\\nSkipping line 8390: expected 1 fields, saw 2\\nSkipping line 8394: expected 1 fields, saw 2\\nSkipping line 8400: expected 1 fields, saw 2\\nSkipping line 8407: expected 1 fields, saw 6\\nSkipping line 8418: expected 1 fields, saw 2\\nSkipping line 8420: expected 1 fields, saw 2\\nSkipping line 8422: expected 1 fields, saw 2\\nSkipping line 8425: expected 1 fields, saw 3\\nSkipping line 8427: expected 1 fields, saw 3\\nSkipping line 8428: expected 1 fields, saw 10\\nSkipping line 8430: expected 1 fields, saw 2\\nSkipping line 8432: expected 1 fields, saw 3\\nSkipping line 8433: expected 1 fields, saw 6\\nSkipping line 8443: expected 1 fields, saw 2\\nSkipping line 8461: expected 1 fields, saw 2\\nSkipping line 8464: expected 1 fields, saw 2\\nSkipping line 8465: expected 1 fields, saw 2\\nSkipping line 8468: expected 1 fields, saw 2\\nSkipping line 8472: expected 1 fields, saw 3\\nSkipping line 8478: expected 1 fields, saw 4\\nSkipping line 8494: expected 1 fields, saw 2\\nSkipping line 8502: expected 1 fields, saw 3\\nSkipping line 8527: expected 1 fields, saw 2\\nSkipping line 8544: expected 1 fields, saw 3\\nSkipping line 8561: expected 1 fields, saw 3\\nSkipping line 8574: expected 1 fields, saw 3\\nSkipping line 8594: expected 1 fields, saw 2\\nSkipping line 8600: expected 1 fields, saw 3\\nSkipping line 8609: expected 1 fields, saw 2\\nSkipping line 8620: expected 1 fields, saw 3\\nSkipping line 8622: expected 1 fields, saw 2\\nSkipping line 8634: expected 1 fields, saw 4\\nSkipping line 8663: expected 1 fields, saw 2\\nSkipping line 8671: expected 1 fields, saw 2\\nSkipping line 8681: expected 1 fields, saw 2\\nSkipping line 8694: expected 1 fields, saw 3\\nSkipping line 8695: expected 1 fields, saw 2\\nSkipping line 8714: expected 1 fields, saw 2\\nSkipping line 8716: expected 1 fields, saw 3\\nSkipping line 8719: expected 1 fields, saw 2\\nSkipping line 8720: expected 1 fields, saw 3\\nSkipping line 8721: expected 1 fields, saw 3\\nSkipping line 8723: expected 1 fields, saw 3\\nSkipping line 8730: expected 1 fields, saw 5\\nSkipping line 8732: expected 1 fields, saw 3\\nSkipping line 8745: expected 1 fields, saw 2\\nSkipping line 8760: expected 1 fields, saw 2\\nSkipping line 8762: expected 1 fields, saw 11\\nSkipping line 8771: expected 1 fields, saw 3\\nSkipping line 8787: expected 1 fields, saw 2\\nSkipping line 8790: expected 1 fields, saw 2\\nSkipping line 8791: expected 1 fields, saw 3\\nSkipping line 8803: expected 1 fields, saw 2\\nSkipping line 8806: expected 1 fields, saw 3\\nSkipping line 8815: expected 1 fields, saw 3\\nSkipping line 8824: expected 1 fields, saw 3\\nSkipping line 8827: expected 1 fields, saw 3\\nSkipping line 8835: expected 1 fields, saw 2\\nSkipping line 8858: expected 1 fields, saw 3\\nSkipping line 8877: expected 1 fields, saw 2\\nSkipping line 8879: expected 1 fields, saw 3\\nSkipping line 8892: expected 1 fields, saw 2\\nSkipping line 8903: expected 1 fields, saw 2\\nSkipping line 8909: expected 1 fields, saw 3\\nSkipping line 8921: expected 1 fields, saw 2\\nSkipping line 8934: expected 1 fields, saw 21\\nSkipping line 8935: expected 1 fields, saw 3\\nSkipping line 8942: expected 1 fields, saw 2\\nSkipping line 8946: expected 1 fields, saw 18\\nSkipping line 8948: expected 1 fields, saw 3\\nSkipping line 8951: expected 1 fields, saw 12\\nSkipping line 8958: expected 1 fields, saw 3\\nSkipping line 8968: expected 1 fields, saw 2\\nSkipping line 8977: expected 1 fields, saw 5\\nSkipping line 8981: expected 1 fields, saw 2\\nSkipping line 8993: expected 1 fields, saw 2\\nSkipping line 8996: expected 1 fields, saw 2\\nSkipping line 9031: expected 1 fields, saw 3\\nSkipping line 9044: expected 1 fields, saw 2\\nSkipping line 9051: expected 1 fields, saw 5\\nSkipping line 9067: expected 1 fields, saw 3\\nSkipping line 9096: expected 1 fields, saw 3\\nSkipping line 9097: expected 1 fields, saw 2\\nSkipping line 9100: expected 1 fields, saw 3\\nSkipping line 9111: expected 1 fields, saw 2\\nSkipping line 9120: expected 1 fields, saw 4\\nSkipping line 9125: expected 1 fields, saw 4\\nSkipping line 9127: expected 1 fields, saw 14\\nSkipping line 9133: expected 1 fields, saw 5\\nSkipping line 9136: expected 1 fields, saw 3\\nSkipping line 9142: expected 1 fields, saw 3\\nSkipping line 9151: expected 1 fields, saw 2\\nSkipping line 9154: expected 1 fields, saw 3\\nSkipping line 9165: expected 1 fields, saw 3\\nSkipping line 9214: expected 1 fields, saw 3\\nSkipping line 9215: expected 1 fields, saw 3\\nSkipping line 9232: expected 1 fields, saw 2\\nSkipping line 9268: expected 1 fields, saw 5\\nSkipping line 9270: expected 1 fields, saw 2\\nSkipping line 9286: expected 1 fields, saw 2\\nSkipping line 9296: expected 1 fields, saw 2\\nSkipping line 9297: expected 1 fields, saw 3\\nSkipping line 9305: expected 1 fields, saw 3\\nSkipping line 9308: expected 1 fields, saw 2\\nSkipping line 9319: expected 1 fields, saw 3\\nSkipping line 9329: expected 1 fields, saw 3\\nSkipping line 9330: expected 1 fields, saw 3\\nSkipping line 9340: expected 1 fields, saw 5\\nSkipping line 9350: expected 1 fields, saw 3\\nSkipping line 9354: expected 1 fields, saw 3\\nSkipping line 9356: expected 1 fields, saw 2\\nSkipping line 9375: expected 1 fields, saw 2\\nSkipping line 9408: expected 1 fields, saw 2\\nSkipping line 9409: expected 1 fields, saw 6\\nSkipping line 9425: expected 1 fields, saw 3\\nSkipping line 9450: expected 1 fields, saw 4\\nSkipping line 9457: expected 1 fields, saw 3\\nSkipping line 9458: expected 1 fields, saw 3\\nSkipping line 9461: expected 1 fields, saw 2\\nSkipping line 9485: expected 1 fields, saw 9\\nSkipping line 9488: expected 1 fields, saw 2\\nSkipping line 9492: expected 1 fields, saw 3\\nSkipping line 9499: expected 1 fields, saw 2\\nSkipping line 9500: expected 1 fields, saw 2\\nSkipping line 9521: expected 1 fields, saw 2\\nSkipping line 9522: expected 1 fields, saw 2\\nSkipping line 9533: expected 1 fields, saw 2\\nSkipping line 9535: expected 1 fields, saw 4\\nSkipping line 9543: expected 1 fields, saw 3\\nSkipping line 9544: expected 1 fields, saw 2\\nSkipping line 9553: expected 1 fields, saw 2\\nSkipping line 9569: expected 1 fields, saw 4\\nSkipping line 9573: expected 1 fields, saw 2\\nSkipping line 9574: expected 1 fields, saw 16\\nSkipping line 9604: expected 1 fields, saw 2\\nSkipping line 9629: expected 1 fields, saw 2\\nSkipping line 9654: expected 1 fields, saw 2\\nSkipping line 9677: expected 1 fields, saw 3\\nSkipping line 9687: expected 1 fields, saw 2\\nSkipping line 9710: expected 1 fields, saw 3\\nSkipping line 9712: expected 1 fields, saw 3\\nSkipping line 9725: expected 1 fields, saw 2\\nSkipping line 9730: expected 1 fields, saw 3\\nSkipping line 9731: expected 1 fields, saw 5\\nSkipping line 9756: expected 1 fields, saw 2\\nSkipping line 9757: expected 1 fields, saw 4\\nSkipping line 9772: expected 1 fields, saw 3\\nSkipping line 9778: expected 1 fields, saw 3\\nSkipping line 9784: expected 1 fields, saw 2\\nSkipping line 9793: expected 1 fields, saw 4\\nSkipping line 9795: expected 1 fields, saw 2\\nSkipping line 9798: expected 1 fields, saw 2\\nSkipping line 9822: expected 1 fields, saw 2\\nSkipping line 9827: expected 1 fields, saw 4\\nSkipping line 9829: expected 1 fields, saw 2\\nSkipping line 9843: expected 1 fields, saw 17\\nSkipping line 9862: expected 1 fields, saw 4\\nSkipping line 9863: expected 1 fields, saw 2\\nSkipping line 9867: expected 1 fields, saw 3\\nSkipping line 9868: expected 1 fields, saw 3\\nSkipping line 9874: expected 1 fields, saw 2\\nSkipping line 9881: expected 1 fields, saw 4\\nSkipping line 9895: expected 1 fields, saw 3\\nSkipping line 9899: expected 1 fields, saw 4\\nSkipping line 9903: expected 1 fields, saw 3\\nSkipping line 9906: expected 1 fields, saw 3\\nSkipping line 9923: expected 1 fields, saw 2\\nSkipping line 9941: expected 1 fields, saw 3\\nSkipping line 9944: expected 1 fields, saw 5\\nSkipping line 9975: expected 1 fields, saw 3\\nSkipping line 9985: expected 1 fields, saw 2\\nSkipping line 10014: expected 1 fields, saw 4\\nSkipping line 10020: expected 1 fields, saw 3\\nSkipping line 10023: expected 1 fields, saw 3\\nSkipping line 10026: expected 1 fields, saw 2\\nSkipping line 10029: expected 1 fields, saw 2\\nSkipping line 10042: expected 1 fields, saw 3\\nSkipping line 10046: expected 1 fields, saw 3\\nSkipping line 10047: expected 1 fields, saw 2\\nSkipping line 10069: expected 1 fields, saw 2\\nSkipping line 10075: expected 1 fields, saw 5\\nSkipping line 10103: expected 1 fields, saw 7\\nSkipping line 10104: expected 1 fields, saw 3\\nSkipping line 10115: expected 1 fields, saw 3\\nSkipping line 10141: expected 1 fields, saw 2\\nSkipping line 10160: expected 1 fields, saw 2\\nSkipping line 10162: expected 1 fields, saw 3\\nSkipping line 10166: expected 1 fields, saw 17\\nSkipping line 10168: expected 1 fields, saw 2\\nSkipping line 10176: expected 1 fields, saw 6\\nSkipping line 10178: expected 1 fields, saw 3\\nSkipping line 10187: expected 1 fields, saw 4\\nSkipping line 10188: expected 1 fields, saw 3\\nSkipping line 10195: expected 1 fields, saw 4\\nSkipping line 10197: expected 1 fields, saw 2\\nSkipping line 10200: expected 1 fields, saw 3\\nSkipping line 10202: expected 1 fields, saw 5\\nSkipping line 10205: expected 1 fields, saw 4\\nSkipping line 10206: expected 1 fields, saw 2\\nSkipping line 10207: expected 1 fields, saw 3\\nSkipping line 10208: expected 1 fields, saw 5\\nSkipping line 10211: expected 1 fields, saw 2\\nSkipping line 10214: expected 1 fields, saw 7\\nSkipping line 10215: expected 1 fields, saw 2\\nSkipping line 10217: expected 1 fields, saw 6\\nSkipping line 10221: expected 1 fields, saw 2\\nSkipping line 10223: expected 1 fields, saw 3\\nSkipping line 10225: expected 1 fields, saw 5\\nSkipping line 10231: expected 1 fields, saw 34\\nSkipping line 10237: expected 1 fields, saw 3\\nSkipping line 10240: expected 1 fields, saw 3\\nSkipping line 10241: expected 1 fields, saw 3\\nSkipping line 10249: expected 1 fields, saw 9\\nSkipping line 10250: expected 1 fields, saw 5\\nSkipping line 10260: expected 1 fields, saw 2\\nSkipping line 10262: expected 1 fields, saw 5\\nSkipping line 10263: expected 1 fields, saw 3\\n'\n"
     ]
    }
   ],
   "source": [
    "import pandas\n",
    "Areviews=pd.read_csv(\"C:/Users/HP/OneDrive/Documents/Musical_Instruments_5.doc\",error_bad_lines=False, sep=';')"
   ]
  },
  {
   "cell_type": "code",
   "execution_count": 27,
   "metadata": {},
   "outputs": [
    {
     "data": {
      "text/html": [
       "<div>\n",
       "<style scoped>\n",
       "    .dataframe tbody tr th:only-of-type {\n",
       "        vertical-align: middle;\n",
       "    }\n",
       "\n",
       "    .dataframe tbody tr th {\n",
       "        vertical-align: top;\n",
       "    }\n",
       "\n",
       "    .dataframe thead th {\n",
       "        text-align: right;\n",
       "    }\n",
       "</style>\n",
       "<table border=\"1\" class=\"dataframe\">\n",
       "  <thead>\n",
       "    <tr style=\"text-align: right;\">\n",
       "      <th></th>\n",
       "      <th>X</th>\n",
       "    </tr>\n",
       "  </thead>\n",
       "  <tbody>\n",
       "    <tr>\n",
       "      <th>0</th>\n",
       "      <td>{\".\": \"A2IBPI20UZIR0U\", \"asin\": \"1384719342\", ...</td>\n",
       "    </tr>\n",
       "    <tr>\n",
       "      <th>1</th>\n",
       "      <td>{\" \": \"A14VAT5EAX3D9S\", \"asin\": \"1384719342\", ...</td>\n",
       "    </tr>\n",
       "    <tr>\n",
       "      <th>2</th>\n",
       "      <td>{\".\": \"A195EZSQDW3E21\", \"asin\": \"1384719342\", ...</td>\n",
       "    </tr>\n",
       "    <tr>\n",
       "      <th>3</th>\n",
       "      <td>{\".\": \"A2C00NNG1ZQQG2\", \"asin\": \"1384719342\", ...</td>\n",
       "    </tr>\n",
       "    <tr>\n",
       "      <th>4</th>\n",
       "      <td>{\".\": \"A94QU4C90B1AX\", \"asin\": \"1384719342\", \"...</td>\n",
       "    </tr>\n",
       "    <tr>\n",
       "      <th>...</th>\n",
       "      <td>...</td>\n",
       "    </tr>\n",
       "    <tr>\n",
       "      <th>9306</th>\n",
       "      <td>{\".\": \"A2VRAT69JDAD3W\", \"asin\": \"B00JBIVXGC\", ...</td>\n",
       "    </tr>\n",
       "    <tr>\n",
       "      <th>9307</th>\n",
       "      <td>{\".\": \"A306NASGVUDFKF\", \"asin\": \"B00JBIVXGC\", ...</td>\n",
       "    </tr>\n",
       "    <tr>\n",
       "      <th>9308</th>\n",
       "      <td>{\".\": \"A1TSKKBNV38E8Y\", \"asin\": \"B00JBIVXGC\", ...</td>\n",
       "    </tr>\n",
       "    <tr>\n",
       "      <th>9309</th>\n",
       "      <td>{\".\": \"A14B2YH83ZXMPP\", \"asin\": \"B00JBIVXGC\", ...</td>\n",
       "    </tr>\n",
       "    <tr>\n",
       "      <th>9310</th>\n",
       "      <td>{\".\": \"AWCJ12KBO5VII\", \"asin\": \"B00JBIVXGC\", \"...</td>\n",
       "    </tr>\n",
       "  </tbody>\n",
       "</table>\n",
       "<p>9311 rows × 1 columns</p>\n",
       "</div>"
      ],
      "text/plain": [
       "                                                      X\n",
       "0     {\".\": \"A2IBPI20UZIR0U\", \"asin\": \"1384719342\", ...\n",
       "1     {\" \": \"A14VAT5EAX3D9S\", \"asin\": \"1384719342\", ...\n",
       "2     {\".\": \"A195EZSQDW3E21\", \"asin\": \"1384719342\", ...\n",
       "3     {\".\": \"A2C00NNG1ZQQG2\", \"asin\": \"1384719342\", ...\n",
       "4     {\".\": \"A94QU4C90B1AX\", \"asin\": \"1384719342\", \"...\n",
       "...                                                 ...\n",
       "9306  {\".\": \"A2VRAT69JDAD3W\", \"asin\": \"B00JBIVXGC\", ...\n",
       "9307  {\".\": \"A306NASGVUDFKF\", \"asin\": \"B00JBIVXGC\", ...\n",
       "9308  {\".\": \"A1TSKKBNV38E8Y\", \"asin\": \"B00JBIVXGC\", ...\n",
       "9309  {\".\": \"A14B2YH83ZXMPP\", \"asin\": \"B00JBIVXGC\", ...\n",
       "9310  {\".\": \"AWCJ12KBO5VII\", \"asin\": \"B00JBIVXGC\", \"...\n",
       "\n",
       "[9311 rows x 1 columns]"
      ]
     },
     "execution_count": 27,
     "metadata": {},
     "output_type": "execute_result"
    }
   ],
   "source": [
    "Areviews"
   ]
  },
  {
   "cell_type": "code",
   "execution_count": 28,
   "metadata": {},
   "outputs": [
    {
     "data": {
      "text/plain": [
       "['{\".\": \"A2IBPI20UZIR0U\", \"asin\": \"1384719342\", \".\": \"cassandra tu \\\\\"Yeah, well, that\\'s just like, u...\", \"helpful\": [0, 0], \".\": \"Not much to write about here, but it does exactly what it\\'s supposed to. filters out the pop sounds. now my recordings are much more crisp. it is one of the lowest prices pop filters on amazon so might as well buy it, they honestly work the same despite their pricing,\", \"overall\": 5.0, \"summary\": \"good\", \"..\": 1393545600, \".\": \"02 28, 2014\"}',\n",
       " '{\" \": \"A14VAT5EAX3D9S\", \"asin\": \"1384719342\", \"\": \"Jake\", \"helpful\": [13, 14], \".\": \"The product does exactly as it should and is quite affordable.I did not realized it was double screened until it arrived, so it was even better than I had expected.As an added bonus, one of the screens carries a small hint of the smell of an old grape candy I used to buy, so for reminiscent\\'s sake, I cannot stop putting the pop filter next to my nose and smelling it after recording. :DIf you needed a pop filter, this will work just as well as the expensive ones, and it may even come with a pleasing aroma like mine did!Buy this product! :]\", \"overall\": 5.0, \"summary\": \"Jake\", \"..\": 1363392000, \".\": \"03 16, 2013\"}',\n",
       " '{\".\": \"A195EZSQDW3E21\", \"asin\": \"1384719342\", \".\": \"Rick Bennette \\\\\"Rick Bennette\\\\\"\", \"helpful\": [1, 1], \".\": \"The primary job of this device is to block the breath that would otherwise produce a popping sound, while allowing your voice to pass through with no noticeable reduction of volume or high frequencies. The double cloth filter blocks the pops and lets the voice through with no coloration. The metal clamp mount attaches to the mike stand secure enough to keep it attached. The goose neck needs a little coaxing to stay where you put it.\", \"overall\": 5.0, \"summary\": \"It Does The Job Well\", \"..\": 1377648000, \"\": \"08 28, 2013\"}',\n",
       " '{\".\": \"A2C00NNG1ZQQG2\", \"asin\": \"1384719342\", \".\": \"RustyBill \\\\\"Sunday Rocker\\\\\"\", \"helpful\": [0, 0], \".\": \"Nice windscreen protects my MXL mic and prevents pops. Only thing is that the gooseneck is only marginally able to hold the screen in position and requires careful positioning of the clamp to avoid sagging.\", \"overall\": 5.0, \"summary\": \"GOOD WINDSCREEN FOR THE MONEY\", \"..\": 1392336000, \".\": \"02 14, 2014\"}',\n",
       " '{\".\": \"A94QU4C90B1AX\", \"asin\": \"1384719342\", \".\": \"SEAN MASLANKA\", \"helpful\": [0, 0], \".\": \"This pop filter is great. It looks and performs like a studio filter. If you\\'re recording vocals this will eliminate the pops that gets recorded when you sing.\", \"overall\": 5.0, \"summary\": \"No more pops when I record my vocals.\", \"..\": 1392940800, \".\": \"02 21, 2014\"}']"
      ]
     },
     "execution_count": 28,
     "metadata": {},
     "output_type": "execute_result"
    }
   ],
   "source": [
    "Areviews = [X.strip() for X in Areviews.X] # remove both the leading and the trailing characters\n",
    "Areviews = [X for X in Areviews if X] # removes empty strings, because they are considered in Python as False\n",
    "Areviews[0:5]"
   ]
  },
  {
   "cell_type": "code",
   "execution_count": 29,
   "metadata": {},
   "outputs": [
    {
     "data": {
      "text/html": [
       "<span class=\"tex2jax_ignore\"><div class=\"entities\" style=\"line-height: 2.5; direction: ltr\">{&quot;.&quot;: &quot;A2G12DY50U700V&quot;, &quot;asin&quot;: &quot;\n",
       "<mark class=\"entity\" style=\"background: #f0d0ff; padding: 0.45em 0.6em; margin: 0 0.25em; line-height: 1; border-radius: 0.35em;\">\n",
       "    B000068NSX\n",
       "    <span style=\"font-size: 0.8em; font-weight: bold; line-height: 1; border-radius: 0.35em; vertical-align: middle; margin-left: 0.5rem\">WORK_OF_ART</span>\n",
       "</mark>\n",
       "&quot;, &quot;.&quot;: &quot;\n",
       "<mark class=\"entity\" style=\"background: #aa9cfc; padding: 0.45em 0.6em; margin: 0 0.25em; line-height: 1; border-radius: 0.35em;\">\n",
       "    Ricky Shows\n",
       "    <span style=\"font-size: 0.8em; font-weight: bold; line-height: 1; border-radius: 0.35em; vertical-align: middle; margin-left: 0.5rem\">PERSON</span>\n",
       "</mark>\n",
       "&quot;, &quot;helpful&quot;: [0, \n",
       "<mark class=\"entity\" style=\"background: #e4e7d2; padding: 0.45em 0.6em; margin: 0 0.25em; line-height: 1; border-radius: 0.35em;\">\n",
       "    0\n",
       "    <span style=\"font-size: 0.8em; font-weight: bold; line-height: 1; border-radius: 0.35em; vertical-align: middle; margin-left: 0.5rem\">CARDINAL</span>\n",
       "</mark>\n",
       "], &quot;.&quot;: &quot;The \n",
       "<mark class=\"entity\" style=\"background: #e4e7d2; padding: 0.45em 0.6em; margin: 0 0.25em; line-height: 1; border-radius: 0.35em;\">\n",
       "    Fender 18 Feet\n",
       "    <span style=\"font-size: 0.8em; font-weight: bold; line-height: 1; border-radius: 0.35em; vertical-align: middle; margin-left: 0.5rem\">MONEY</span>\n",
       "</mark>\n",
       " \n",
       "<mark class=\"entity\" style=\"background: #7aecec; padding: 0.45em 0.6em; margin: 0 0.25em; line-height: 1; border-radius: 0.35em;\">\n",
       "    California Clear Instrument Cable - Lake Placid Blue  \n",
       "    <span style=\"font-size: 0.8em; font-weight: bold; line-height: 1; border-radius: 0.35em; vertical-align: middle; margin-left: 0.5rem\">ORG</span>\n",
       "</mark>\n",
       "is a very good extra cord for a good price.&quot;, &quot;overall&quot;: \n",
       "<mark class=\"entity\" style=\"background: #e4e7d2; padding: 0.45em 0.6em; margin: 0 0.25em; line-height: 1; border-radius: 0.35em;\">\n",
       "    5.0\n",
       "    <span style=\"font-size: 0.8em; font-weight: bold; line-height: 1; border-radius: 0.35em; vertical-align: middle; margin-left: 0.5rem\">CARDINAL</span>\n",
       "</mark>\n",
       ", &quot;summary&quot;: &quot;\n",
       "<mark class=\"entity\" style=\"background: #e4e7d2; padding: 0.45em 0.6em; margin: 0 0.25em; line-height: 1; border-radius: 0.35em;\">\n",
       "    Fender 18 Feet\n",
       "    <span style=\"font-size: 0.8em; font-weight: bold; line-height: 1; border-radius: 0.35em; vertical-align: middle; margin-left: 0.5rem\">MONEY</span>\n",
       "</mark>\n",
       " \n",
       "<mark class=\"entity\" style=\"background: #7aecec; padding: 0.45em 0.6em; margin: 0 0.25em; line-height: 1; border-radius: 0.35em;\">\n",
       "    California Clear Instrument Cable - Lake Placid Blue\n",
       "    <span style=\"font-size: 0.8em; font-weight: bold; line-height: 1; border-radius: 0.35em; vertical-align: middle; margin-left: 0.5rem\">ORG</span>\n",
       "</mark>\n",
       "&quot;, &quot;..&quot;: \n",
       "<mark class=\"entity\" style=\"background: #e4e7d2; padding: 0.45em 0.6em; margin: 0 0.25em; line-height: 1; border-radius: 0.35em;\">\n",
       "    1390953600\n",
       "    <span style=\"font-size: 0.8em; font-weight: bold; line-height: 1; border-radius: 0.35em; vertical-align: middle; margin-left: 0.5rem\">CARDINAL</span>\n",
       "</mark>\n",
       ", &quot;.&quot;: &quot;\n",
       "<mark class=\"entity\" style=\"background: #bfe1d9; padding: 0.45em 0.6em; margin: 0 0.25em; line-height: 1; border-radius: 0.35em;\">\n",
       "    01 29, 2014\n",
       "    <span style=\"font-size: 0.8em; font-weight: bold; line-height: 1; border-radius: 0.35em; vertical-align: middle; margin-left: 0.5rem\">DATE</span>\n",
       "</mark>\n",
       "&quot;}</div></span>"
      ],
      "text/plain": [
       "<IPython.core.display.HTML object>"
      ]
     },
     "metadata": {},
     "output_type": "display_data"
    }
   ],
   "source": [
    "##Part Of Speech Tagging\n",
    "import scipy\n",
    "nlp = spacy.load('en_core_web_md') \n",
    "\n",
    "one_block = Areviews[20]\n",
    "doc_block = nlp(one_block)\n",
    "spacy.displacy.render(doc_block, style='ent', jupyter=True)"
   ]
  },
  {
   "cell_type": "code",
   "execution_count": 30,
   "metadata": {},
   "outputs": [
    {
     "name": "stdout",
     "output_type": "stream",
     "text": [
      "{ PUNCT\n",
      "\" PUNCT\n",
      ". PUNCT\n",
      "\" PUNCT\n",
      ": PUNCT\n",
      "\" PUNCT\n",
      "A2G12DY50U700V NOUN\n",
      "\" PUNCT\n",
      ", PUNCT\n",
      "\" PUNCT\n",
      "asin NOUN\n",
      "\" PUNCT\n",
      ": PUNCT\n",
      "\" PUNCT\n",
      "B000068NSX X\n",
      "\" PUNCT\n",
      ", PUNCT\n",
      "\" PUNCT\n",
      ". PUNCT\n",
      "\" PUNCT\n"
     ]
    }
   ],
   "source": [
    "for token in doc_block[0:20]:\n",
    "    print(token, token.pos_)"
   ]
  },
  {
   "cell_type": "code",
   "execution_count": 31,
   "metadata": {},
   "outputs": [
    {
     "name": "stdout",
     "output_type": "stream",
     "text": [
      "['summary', 'Fender']\n"
     ]
    }
   ],
   "source": [
    "#Filtering for nouns and verbs only\n",
    "nouns_verbs = [token.text for token in doc_block if token.pos_ in ('NOUN', 'VERB')]\n",
    "print(nouns_verbs[5:25])"
   ]
  },
  {
   "cell_type": "code",
   "execution_count": 32,
   "metadata": {},
   "outputs": [],
   "source": [
    "from sklearn.feature_extraction.text import CountVectorizer"
   ]
  },
  {
   "cell_type": "code",
   "execution_count": 33,
   "metadata": {},
   "outputs": [
    {
     "data": {
      "text/html": [
       "<div>\n",
       "<style scoped>\n",
       "    .dataframe tbody tr th:only-of-type {\n",
       "        vertical-align: middle;\n",
       "    }\n",
       "\n",
       "    .dataframe tbody tr th {\n",
       "        vertical-align: top;\n",
       "    }\n",
       "\n",
       "    .dataframe thead th {\n",
       "        text-align: right;\n",
       "    }\n",
       "</style>\n",
       "<table border=\"1\" class=\"dataframe\">\n",
       "  <thead>\n",
       "    <tr style=\"text-align: right;\">\n",
       "      <th></th>\n",
       "      <th>word</th>\n",
       "      <th>count</th>\n",
       "    </tr>\n",
       "  </thead>\n",
       "  <tbody>\n",
       "    <tr>\n",
       "      <th>0</th>\n",
       "      <td>a2g12dy50u700v</td>\n",
       "      <td>1</td>\n",
       "    </tr>\n",
       "    <tr>\n",
       "      <th>1</th>\n",
       "      <td>asin</td>\n",
       "      <td>1</td>\n",
       "    </tr>\n",
       "    <tr>\n",
       "      <th>2</th>\n",
       "      <td>shows</td>\n",
       "      <td>1</td>\n",
       "    </tr>\n",
       "    <tr>\n",
       "      <th>3</th>\n",
       "      <td>cord</td>\n",
       "      <td>1</td>\n",
       "    </tr>\n",
       "    <tr>\n",
       "      <th>4</th>\n",
       "      <td>price</td>\n",
       "      <td>1</td>\n",
       "    </tr>\n",
       "    <tr>\n",
       "      <th>5</th>\n",
       "      <td>summary</td>\n",
       "      <td>1</td>\n",
       "    </tr>\n",
       "    <tr>\n",
       "      <th>6</th>\n",
       "      <td>fender</td>\n",
       "      <td>1</td>\n",
       "    </tr>\n",
       "  </tbody>\n",
       "</table>\n",
       "</div>"
      ],
      "text/plain": [
       "             word  count\n",
       "0  a2g12dy50u700v      1\n",
       "1            asin      1\n",
       "2           shows      1\n",
       "3            cord      1\n",
       "4           price      1\n",
       "5         summary      1\n",
       "6          fender      1"
      ]
     },
     "execution_count": 33,
     "metadata": {},
     "output_type": "execute_result"
    }
   ],
   "source": [
    "#Counting tokens again\n",
    "cv = CountVectorizer()\n",
    "\n",
    "X = cv.fit_transform(nouns_verbs)\n",
    "sum_words = X.sum(axis=0)\n",
    "words_freq = [(word, sum_words[0, idx]) for word, idx in cv.vocabulary_.items()]\n",
    "words_freq =sorted(words_freq, key = lambda x: x[1], reverse=True)\n",
    "wf_df = pd.DataFrame(words_freq)\n",
    "wf_df.columns = ['word', 'count']\n",
    "\n",
    "wf_df[0:10]"
   ]
  },
  {
   "cell_type": "code",
   "execution_count": 34,
   "metadata": {},
   "outputs": [
    {
     "data": {
      "image/png": "[encoded data removed]",
      "text/plain": [
       "<Figure size 864x576 with 1 Axes>"
      ]
     },
     "metadata": {
      "needs_background": "light"
     },
     "output_type": "display_data"
    }
   ],
   "source": [
    "##Visualizing results\n",
    "#Barchart for top 10 nouns + verbs\n",
    "wf_df[0:10].plot.bar(x='word', figsize=(12,8), title='Top verbs and nouns');"
   ]
  },
  {
   "cell_type": "markdown",
   "metadata": {},
   "source": [
    "# Emotion Mining"
   ]
  },
  {
   "cell_type": "code",
   "execution_count": 35,
   "metadata": {},
   "outputs": [
    {
     "data": {
      "text/plain": [
       "(2477, 2)"
      ]
     },
     "execution_count": 35,
     "metadata": {},
     "output_type": "execute_result"
    }
   ],
   "source": [
    "#Sentiment analysis\n",
    "afinn = pd.read_csv('E:/text mining/Afinn (1).csv' , sep=',', encoding='latin-1')\n",
    "afinn.shape"
   ]
  },
  {
   "cell_type": "code",
   "execution_count": 36,
   "metadata": {},
   "outputs": [],
   "source": [
    "from itertools import islice\n",
    "\n",
    "def take(n, iterable):\n",
    "    \"Return first n items of the iterable as a list\"\n",
    "    return list(islice(iterable, n))"
   ]
  },
  {
   "cell_type": "code",
   "execution_count": 37,
   "metadata": {},
   "outputs": [
    {
     "data": {
      "text/plain": [
       "[('abandon', -2),\n",
       " ('abandoned', -2),\n",
       " ('abandons', -2),\n",
       " ('abducted', -2),\n",
       " ('abduction', -2),\n",
       " ('abductions', -2),\n",
       " ('abhor', -3),\n",
       " ('abhorred', -3),\n",
       " ('abhorrent', -3),\n",
       " ('abhors', -3),\n",
       " ('abilities', 2),\n",
       " ('ability', 2),\n",
       " ('aboard', 1),\n",
       " ('absentee', -1),\n",
       " ('absentees', -1),\n",
       " ('absolve', 2),\n",
       " ('absolved', 2),\n",
       " ('absolves', 2),\n",
       " ('absolving', 2),\n",
       " ('absorbed', 1)]"
      ]
     },
     "execution_count": 37,
     "metadata": {},
     "output_type": "execute_result"
    }
   ],
   "source": [
    " affinity_scores = afinn.set_index('word')['value'].to_dict()\n",
    "take(20, affinity_scores.items())"
   ]
  },
  {
   "cell_type": "code",
   "execution_count": 38,
   "metadata": {},
   "outputs": [],
   "source": [
    "import numpy as np # linear algebra\n",
    "import pandas as pd # data processing, CSV file I/O (e.g. pd.read_csv)\n",
    "import string # special operations on strings\n",
    "import spacy # language models\n",
    "\n",
    "from matplotlib.pyplot import imread\n",
    "from matplotlib import pyplot as plt\n",
    "from wordcloud import WordCloud\n",
    "%matplotlib inline"
   ]
  },
  {
   "cell_type": "code",
   "execution_count": 40,
   "metadata": {},
   "outputs": [
    {
     "data": {
      "text/plain": [
       "['now my recordings are much more crisp.',\n",
       " 'it is one of the lowest prices pop filters on amazon so might as well buy it, they honestly work the same despite their pricing,\", \"overall\": 5.0, \"summary\": \"good\", \"..\": 1393545600, \".',\n",
       " '\": \"02 28, 2014\"} {\" \": \"A14VAT5EAX3D9S\", \"asin\": \"1384719342\", \"\": \"Jake\", \"helpful\": [13, 14], \".',\n",
       " '\": \"The product does exactly as it should and is quite affordable.I did not realized it was double screened until it arrived, so it was even better than I had expected.As an added bonus, one of the screens carries a small hint of the smell of an old grape candy I used to buy, so for reminiscent\\'s sake, I cannot stop putting the pop filter next to my nose and smelling it after recording.',\n",
       " ':DIf you needed a pop filter, this will work just as well as the expensive ones, and it may even come with a pleasing aroma like mine did!Buy this product!',\n",
       " ':]\", \"overall\": 5.0, \"summary\": \"Jake\", \"..\": 1363392000, \".',\n",
       " '\": \"03 16, 2013\"} {\".',\n",
       " '\": \"A195EZSQDW3E21\", \"asin\": \"1384719342\", \".',\n",
       " '\": \"Rick Bennette \\\\\"Rick Bennette\\\\\"\", \"helpful\": [1, 1], \".',\n",
       " '\": \"The primary job of this device is to block the breath that would otherwise produce a popping sound, while allowing your voice to pass through with no noticeable reduction of volume or high frequencies.']"
      ]
     },
     "execution_count": 40,
     "metadata": {},
     "output_type": "execute_result"
    }
   ],
   "source": [
    "from nltk import tokenize\n",
    "sentences = tokenize.sent_tokenize(\" \".join(Areviews))\n",
    "sentences[5:15]"
   ]
  },
  {
   "cell_type": "code",
   "execution_count": 41,
   "metadata": {},
   "outputs": [
    {
     "data": {
      "text/html": [
       "<div>\n",
       "<style scoped>\n",
       "    .dataframe tbody tr th:only-of-type {\n",
       "        vertical-align: middle;\n",
       "    }\n",
       "\n",
       "    .dataframe tbody tr th {\n",
       "        vertical-align: top;\n",
       "    }\n",
       "\n",
       "    .dataframe thead th {\n",
       "        text-align: right;\n",
       "    }\n",
       "</style>\n",
       "<table border=\"1\" class=\"dataframe\">\n",
       "  <thead>\n",
       "    <tr style=\"text-align: right;\">\n",
       "      <th></th>\n",
       "      <th>sentence</th>\n",
       "    </tr>\n",
       "  </thead>\n",
       "  <tbody>\n",
       "    <tr>\n",
       "      <th>0</th>\n",
       "      <td>{\".</td>\n",
       "    </tr>\n",
       "    <tr>\n",
       "      <th>1</th>\n",
       "      <td>\": \"A2IBPI20UZIR0U\", \"asin\": \"1384719342\", \".</td>\n",
       "    </tr>\n",
       "    <tr>\n",
       "      <th>2</th>\n",
       "      <td>\": \"cassandra tu \\\"Yeah, well, that's just lik...</td>\n",
       "    </tr>\n",
       "    <tr>\n",
       "      <th>3</th>\n",
       "      <td>\": \"Not much to write about here, but it does ...</td>\n",
       "    </tr>\n",
       "    <tr>\n",
       "      <th>4</th>\n",
       "      <td>filters out the pop sounds.</td>\n",
       "    </tr>\n",
       "    <tr>\n",
       "      <th>...</th>\n",
       "      <td>...</td>\n",
       "    </tr>\n",
       "    <tr>\n",
       "      <th>83799</th>\n",
       "      <td>If you need a longer lasting string for whatev...</td>\n",
       "    </tr>\n",
       "    <tr>\n",
       "      <th>83800</th>\n",
       "      <td>After a dozen or so gigs with them, they still...</td>\n",
       "    </tr>\n",
       "    <tr>\n",
       "      <th>83801</th>\n",
       "      <td>\", \"overall\": 4.0, \"summary\": \"Good for coated.</td>\n",
       "    </tr>\n",
       "    <tr>\n",
       "      <th>83802</th>\n",
       "      <td>\", \"..\": 1405987200, \".</td>\n",
       "    </tr>\n",
       "    <tr>\n",
       "      <th>83803</th>\n",
       "      <td>\": \"07 22, 2014\"}</td>\n",
       "    </tr>\n",
       "  </tbody>\n",
       "</table>\n",
       "<p>83804 rows × 1 columns</p>\n",
       "</div>"
      ],
      "text/plain": [
       "                                                sentence\n",
       "0                                                    {\".\n",
       "1          \": \"A2IBPI20UZIR0U\", \"asin\": \"1384719342\", \".\n",
       "2      \": \"cassandra tu \\\"Yeah, well, that's just lik...\n",
       "3      \": \"Not much to write about here, but it does ...\n",
       "4                            filters out the pop sounds.\n",
       "...                                                  ...\n",
       "83799  If you need a longer lasting string for whatev...\n",
       "83800  After a dozen or so gigs with them, they still...\n",
       "83801    \", \"overall\": 4.0, \"summary\": \"Good for coated.\n",
       "83802                            \", \"..\": 1405987200, \".\n",
       "83803                                  \": \"07 22, 2014\"}\n",
       "\n",
       "[83804 rows x 1 columns]"
      ]
     },
     "execution_count": 41,
     "metadata": {},
     "output_type": "execute_result"
    }
   ],
   "source": [
    "sent_df = pd.DataFrame(sentences, columns=['sentence'])\n",
    "sent_df"
   ]
  },
  {
   "cell_type": "code",
   "execution_count": 43,
   "metadata": {},
   "outputs": [],
   "source": [
    "#Custom function :score each word in a sentence in lemmatised form, \n",
    "#but calculate the score for the whole original sentence.\n",
    "nlp = spacy.load('en_core_web_md')\n",
    "sentiment_lexicon = affinity_scores\n",
    "\n",
    "def calculate_sentiment(text: str = None) -> float:\n",
    "    sent_score = 0\n",
    "    if text:\n",
    "        sentence = nlp(text)\n",
    "        for word in sentence:\n",
    "            sent_score += sentiment_lexicon.get(word.lemma_, 0)\n",
    "    return sent_score"
   ]
  },
  {
   "cell_type": "code",
   "execution_count": 44,
   "metadata": {},
   "outputs": [
    {
     "data": {
      "text/plain": [
       "-2"
      ]
     },
     "execution_count": 44,
     "metadata": {},
     "output_type": "execute_result"
    }
   ],
   "source": [
    "# test that it works\n",
    "calculate_sentiment(text = 'very sad')"
   ]
  },
  {
   "cell_type": "code",
   "execution_count": 45,
   "metadata": {},
   "outputs": [],
   "source": [
    "sent_df['sentiment_value'] = sent_df['sentence'].apply(calculate_sentiment)"
   ]
  },
  {
   "cell_type": "code",
   "execution_count": 46,
   "metadata": {},
   "outputs": [
    {
     "data": {
      "text/plain": [
       "0     1\n",
       "1     5\n",
       "2    13\n",
       "3    15\n",
       "4     5\n",
       "5     7\n",
       "6    32\n",
       "7    15\n",
       "8    74\n",
       "9    30\n",
       "Name: word_count, dtype: int64"
      ]
     },
     "execution_count": 46,
     "metadata": {},
     "output_type": "execute_result"
    }
   ],
   "source": [
    "# how many words are in the sentence?\n",
    "sent_df['word_count'] = sent_df['sentence'].str.split().apply(len)\n",
    "sent_df['word_count'].head(10)"
   ]
  },
  {
   "cell_type": "code",
   "execution_count": 48,
   "metadata": {},
   "outputs": [
    {
     "data": {
      "text/html": [
       "<div>\n",
       "<style scoped>\n",
       "    .dataframe tbody tr th:only-of-type {\n",
       "        vertical-align: middle;\n",
       "    }\n",
       "\n",
       "    .dataframe tbody tr th {\n",
       "        vertical-align: top;\n",
       "    }\n",
       "\n",
       "    .dataframe thead th {\n",
       "        text-align: right;\n",
       "    }\n",
       "</style>\n",
       "<table border=\"1\" class=\"dataframe\">\n",
       "  <thead>\n",
       "    <tr style=\"text-align: right;\">\n",
       "      <th></th>\n",
       "      <th>sentence</th>\n",
       "      <th>sentiment_value</th>\n",
       "      <th>word_count</th>\n",
       "    </tr>\n",
       "  </thead>\n",
       "  <tbody>\n",
       "    <tr>\n",
       "      <th>25646</th>\n",
       "      <td>\": \"The fact of the price for this and the 18 ...</td>\n",
       "      <td>22</td>\n",
       "      <td>135</td>\n",
       "    </tr>\n",
       "    <tr>\n",
       "      <th>70422</th>\n",
       "      <td>\": \"There really is nothing not to like about ...</td>\n",
       "      <td>23</td>\n",
       "      <td>100</td>\n",
       "    </tr>\n",
       "    <tr>\n",
       "      <th>55028</th>\n",
       "      <td>its very easy to use and program, I did not ha...</td>\n",
       "      <td>24</td>\n",
       "      <td>137</td>\n",
       "    </tr>\n",
       "    <tr>\n",
       "      <th>48123</th>\n",
       "      <td>have been playing finger style only - usually ...</td>\n",
       "      <td>24</td>\n",
       "      <td>216</td>\n",
       "    </tr>\n",
       "    <tr>\n",
       "      <th>57998</th>\n",
       "      <td>Solid, nice sound, very good quality to make a...</td>\n",
       "      <td>26</td>\n",
       "      <td>89</td>\n",
       "    </tr>\n",
       "    <tr>\n",
       "      <th>43661</th>\n",
       "      <td>Nice clean boost and a good overdrive sound wh...</td>\n",
       "      <td>26</td>\n",
       "      <td>172</td>\n",
       "    </tr>\n",
       "    <tr>\n",
       "      <th>11393</th>\n",
       "      <td>\": \"Great great great great great great great ...</td>\n",
       "      <td>27</td>\n",
       "      <td>10</td>\n",
       "    </tr>\n",
       "    <tr>\n",
       "      <th>42151</th>\n",
       "      <td>\": \"what a nice clear sound it has,,and smooth...</td>\n",
       "      <td>27</td>\n",
       "      <td>140</td>\n",
       "    </tr>\n",
       "    <tr>\n",
       "      <th>61945</th>\n",
       "      <td>\": \"These days on my pedal board I have severa...</td>\n",
       "      <td>31</td>\n",
       "      <td>244</td>\n",
       "    </tr>\n",
       "    <tr>\n",
       "      <th>46903</th>\n",
       "      <td>\": \"nice good like fine great fantastic like l...</td>\n",
       "      <td>40</td>\n",
       "      <td>30</td>\n",
       "    </tr>\n",
       "  </tbody>\n",
       "</table>\n",
       "</div>"
      ],
      "text/plain": [
       "                                                sentence  sentiment_value  \\\n",
       "25646  \": \"The fact of the price for this and the 18 ...               22   \n",
       "70422  \": \"There really is nothing not to like about ...               23   \n",
       "55028  its very easy to use and program, I did not ha...               24   \n",
       "48123  have been playing finger style only - usually ...               24   \n",
       "57998  Solid, nice sound, very good quality to make a...               26   \n",
       "43661  Nice clean boost and a good overdrive sound wh...               26   \n",
       "11393  \": \"Great great great great great great great ...               27   \n",
       "42151  \": \"what a nice clear sound it has,,and smooth...               27   \n",
       "61945  \": \"These days on my pedal board I have severa...               31   \n",
       "46903  \": \"nice good like fine great fantastic like l...               40   \n",
       "\n",
       "       word_count  \n",
       "25646         135  \n",
       "70422         100  \n",
       "55028         137  \n",
       "48123         216  \n",
       "57998          89  \n",
       "43661         172  \n",
       "11393          10  \n",
       "42151         140  \n",
       "61945         244  \n",
       "46903          30  "
      ]
     },
     "execution_count": 48,
     "metadata": {},
     "output_type": "execute_result"
    }
   ],
   "source": [
    "sent_df.sort_values(by='sentiment_value').tail(10)"
   ]
  },
  {
   "cell_type": "code",
   "execution_count": 49,
   "metadata": {},
   "outputs": [
    {
     "data": {
      "text/plain": [
       "count    83804.000000\n",
       "mean         1.107083\n",
       "std          2.031643\n",
       "min        -12.000000\n",
       "25%          0.000000\n",
       "50%          0.000000\n",
       "75%          2.000000\n",
       "max         40.000000\n",
       "Name: sentiment_value, dtype: float64"
      ]
     },
     "execution_count": 49,
     "metadata": {},
     "output_type": "execute_result"
    }
   ],
   "source": [
    "# Sentiment score of the whole review\n",
    "sent_df['sentiment_value'].describe()"
   ]
  },
  {
   "cell_type": "code",
   "execution_count": 50,
   "metadata": {},
   "outputs": [
    {
     "data": {
      "text/html": [
       "<div>\n",
       "<style scoped>\n",
       "    .dataframe tbody tr th:only-of-type {\n",
       "        vertical-align: middle;\n",
       "    }\n",
       "\n",
       "    .dataframe tbody tr th {\n",
       "        vertical-align: top;\n",
       "    }\n",
       "\n",
       "    .dataframe thead th {\n",
       "        text-align: right;\n",
       "    }\n",
       "</style>\n",
       "<table border=\"1\" class=\"dataframe\">\n",
       "  <thead>\n",
       "    <tr style=\"text-align: right;\">\n",
       "      <th></th>\n",
       "      <th>sentence</th>\n",
       "      <th>sentiment_value</th>\n",
       "      <th>word_count</th>\n",
       "    </tr>\n",
       "  </thead>\n",
       "  <tbody>\n",
       "    <tr>\n",
       "      <th>0</th>\n",
       "      <td>{\".</td>\n",
       "      <td>0</td>\n",
       "      <td>1</td>\n",
       "    </tr>\n",
       "    <tr>\n",
       "      <th>1</th>\n",
       "      <td>\": \"A2IBPI20UZIR0U\", \"asin\": \"1384719342\", \".</td>\n",
       "      <td>0</td>\n",
       "      <td>5</td>\n",
       "    </tr>\n",
       "    <tr>\n",
       "      <th>3</th>\n",
       "      <td>\": \"Not much to write about here, but it does ...</td>\n",
       "      <td>0</td>\n",
       "      <td>15</td>\n",
       "    </tr>\n",
       "    <tr>\n",
       "      <th>4</th>\n",
       "      <td>filters out the pop sounds.</td>\n",
       "      <td>0</td>\n",
       "      <td>5</td>\n",
       "    </tr>\n",
       "    <tr>\n",
       "      <th>5</th>\n",
       "      <td>now my recordings are much more crisp.</td>\n",
       "      <td>0</td>\n",
       "      <td>7</td>\n",
       "    </tr>\n",
       "  </tbody>\n",
       "</table>\n",
       "</div>"
      ],
      "text/plain": [
       "                                            sentence  sentiment_value  \\\n",
       "0                                                {\".                0   \n",
       "1      \": \"A2IBPI20UZIR0U\", \"asin\": \"1384719342\", \".                0   \n",
       "3  \": \"Not much to write about here, but it does ...                0   \n",
       "4                        filters out the pop sounds.                0   \n",
       "5             now my recordings are much more crisp.                0   \n",
       "\n",
       "   word_count  \n",
       "0           1  \n",
       "1           5  \n",
       "3          15  \n",
       "4           5  \n",
       "5           7  "
      ]
     },
     "execution_count": 50,
     "metadata": {},
     "output_type": "execute_result"
    }
   ],
   "source": [
    "# Sentiment score of the whole review\n",
    "sent_df[sent_df['sentiment_value']<=0].head()"
   ]
  },
  {
   "cell_type": "code",
   "execution_count": 51,
   "metadata": {},
   "outputs": [
    {
     "data": {
      "text/html": [
       "<div>\n",
       "<style scoped>\n",
       "    .dataframe tbody tr th:only-of-type {\n",
       "        vertical-align: middle;\n",
       "    }\n",
       "\n",
       "    .dataframe tbody tr th {\n",
       "        vertical-align: top;\n",
       "    }\n",
       "\n",
       "    .dataframe thead th {\n",
       "        text-align: right;\n",
       "    }\n",
       "</style>\n",
       "<table border=\"1\" class=\"dataframe\">\n",
       "  <thead>\n",
       "    <tr style=\"text-align: right;\">\n",
       "      <th></th>\n",
       "      <th>sentence</th>\n",
       "      <th>sentiment_value</th>\n",
       "      <th>word_count</th>\n",
       "    </tr>\n",
       "  </thead>\n",
       "  <tbody>\n",
       "    <tr>\n",
       "      <th>2</th>\n",
       "      <td>\": \"cassandra tu \\\"Yeah, well, that's just lik...</td>\n",
       "      <td>4</td>\n",
       "      <td>13</td>\n",
       "    </tr>\n",
       "    <tr>\n",
       "      <th>6</th>\n",
       "      <td>it is one of the lowest prices pop filters on ...</td>\n",
       "      <td>3</td>\n",
       "      <td>32</td>\n",
       "    </tr>\n",
       "    <tr>\n",
       "      <th>7</th>\n",
       "      <td>\": \"02 28, 2014\"} {\" \": \"A14VAT5EAX3D9S\", \"asi...</td>\n",
       "      <td>2</td>\n",
       "      <td>15</td>\n",
       "    </tr>\n",
       "    <tr>\n",
       "      <th>9</th>\n",
       "      <td>:DIf you needed a pop filter, this will work j...</td>\n",
       "      <td>2</td>\n",
       "      <td>30</td>\n",
       "    </tr>\n",
       "    <tr>\n",
       "      <th>13</th>\n",
       "      <td>\": \"Rick Bennette \\\"Rick Bennette\\\"\", \"helpful...</td>\n",
       "      <td>2</td>\n",
       "      <td>9</td>\n",
       "    </tr>\n",
       "  </tbody>\n",
       "</table>\n",
       "</div>"
      ],
      "text/plain": [
       "                                             sentence  sentiment_value  \\\n",
       "2   \": \"cassandra tu \\\"Yeah, well, that's just lik...                4   \n",
       "6   it is one of the lowest prices pop filters on ...                3   \n",
       "7   \": \"02 28, 2014\"} {\" \": \"A14VAT5EAX3D9S\", \"asi...                2   \n",
       "9   :DIf you needed a pop filter, this will work j...                2   \n",
       "13  \": \"Rick Bennette \\\"Rick Bennette\\\"\", \"helpful...                2   \n",
       "\n",
       "    word_count  \n",
       "2           13  \n",
       "6           32  \n",
       "7           15  \n",
       "9           30  \n",
       "13           9  "
      ]
     },
     "execution_count": 51,
     "metadata": {},
     "output_type": "execute_result"
    }
   ],
   "source": [
    "sent_df[sent_df['sentiment_value']>=2].head()"
   ]
  },
  {
   "cell_type": "code",
   "execution_count": 52,
   "metadata": {},
   "outputs": [],
   "source": [
    "sent_df['index']=range(0,len(sent_df))"
   ]
  },
  {
   "cell_type": "code",
   "execution_count": 53,
   "metadata": {},
   "outputs": [
    {
     "name": "stderr",
     "output_type": "stream",
     "text": [
      "C:\\Users\\HP\\anaconda3\\lib\\site-packages\\seaborn\\distributions.py:2551: FutureWarning: `distplot` is a deprecated function and will be removed in a future version. Please adapt your code to use either `displot` (a figure-level function with similar flexibility) or `histplot` (an axes-level function for histograms).\n",
      "  warnings.warn(msg, FutureWarning)\n"
     ]
    },
    {
     "data": {
      "image/png": "[encoded data removed]",
      "text/plain": [
       "<Figure size 1080x720 with 1 Axes>"
      ]
     },
     "metadata": {
      "needs_background": "light"
     },
     "output_type": "display_data"
    }
   ],
   "source": [
    "import seaborn as sns\n",
    "import matplotlib.pyplot as plt\n",
    "plt.figure(figsize=(15, 10))\n",
    "sns.distplot(sent_df['sentiment_value']);"
   ]
  },
  {
   "cell_type": "code",
   "execution_count": 54,
   "metadata": {},
   "outputs": [
    {
     "data": {
      "image/png": "[encoded data removed]",
      "text/plain": [
       "<Figure size 1080x720 with 1 Axes>"
      ]
     },
     "metadata": {
      "needs_background": "light"
     },
     "output_type": "display_data"
    }
   ],
   "source": [
    "plt.figure(figsize=(15, 10))\n",
    "sns.lineplot(y='sentiment_value',x='index',data=sent_df);"
   ]
  },
  {
   "cell_type": "code",
   "execution_count": 55,
   "metadata": {},
   "outputs": [
    {
     "data": {
      "image/png": "[encoded data removed]",
      "text/plain": [
       "<Figure size 576x576 with 1 Axes>"
      ]
     },
     "metadata": {
      "needs_background": "light"
     },
     "output_type": "display_data"
    }
   ],
   "source": [
    "sent_df.plot.scatter(x='word_count', y='sentiment_value', figsize=(8,8), title='Sentence sentiment value to sentence word count');"
   ]
  },
  {
   "cell_type": "code",
   "execution_count": null,
   "metadata": {},
   "outputs": [],
   "source": []
  }
 ],
 "metadata": {
  "kernelspec": {
   "display_name": "Python 3",
   "language": "python",
   "name": "python3"
  },
  "language_info": {
   "codemirror_mode": {
    "name": "ipython",
    "version": 3
   },
   "file_extension": ".py",
   "mimetype": "text/x-python",
   "name": "python",
   "nbconvert_exporter": "python",
   "pygments_lexer": "ipython3",
   "version": "3.8.5"
  }
 },
 "nbformat": 4,
 "nbformat_minor": 4
}
